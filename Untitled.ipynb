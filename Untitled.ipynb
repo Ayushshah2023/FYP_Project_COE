{
 "cells": [
  {
   "cell_type": "code",
   "execution_count": 1,
   "metadata": {},
   "outputs": [],
   "source": [
    "import pandas as pd\n",
    "import category_encoders as ce\n",
    "import matplotlib.pyplot as plt\n",
    "import seaborn as sns\n",
    "%matplotlib inline"
   ]
  },
  {
   "cell_type": "code",
   "execution_count": 3,
   "metadata": {},
   "outputs": [
    {
     "data": {
      "text/html": [
       "<div>\n",
       "<style scoped>\n",
       "    .dataframe tbody tr th:only-of-type {\n",
       "        vertical-align: middle;\n",
       "    }\n",
       "\n",
       "    .dataframe tbody tr th {\n",
       "        vertical-align: top;\n",
       "    }\n",
       "\n",
       "    .dataframe thead th {\n",
       "        text-align: right;\n",
       "    }\n",
       "</style>\n",
       "<table border=\"1\" class=\"dataframe\">\n",
       "  <thead>\n",
       "    <tr style=\"text-align: right;\">\n",
       "      <th></th>\n",
       "      <th>Date &amp; Time</th>\n",
       "      <th>Source IP</th>\n",
       "      <th>Destination IP</th>\n",
       "      <th>Source MAC</th>\n",
       "      <th>Destination MAC</th>\n",
       "      <th>Protocol</th>\n",
       "      <th>Flags</th>\n",
       "      <th>Src Port</th>\n",
       "      <th>Dst Port</th>\n",
       "      <th>Length</th>\n",
       "      <th>Packet</th>\n",
       "    </tr>\n",
       "  </thead>\n",
       "  <tbody>\n",
       "    <tr>\n",
       "      <th>0</th>\n",
       "      <td>27-02-2020 11:34</td>\n",
       "      <td>192.168.0.50</td>\n",
       "      <td>192.168.0.20</td>\n",
       "      <td>40:f2:e9:9d:44:6b</td>\n",
       "      <td>00:90:e8:5e:d1:66</td>\n",
       "      <td>TCP</td>\n",
       "      <td>AP</td>\n",
       "      <td>60394</td>\n",
       "      <td>502</td>\n",
       "      <td>64</td>\n",
       "      <td>1</td>\n",
       "    </tr>\n",
       "    <tr>\n",
       "      <th>1</th>\n",
       "      <td>27-02-2020 11:34</td>\n",
       "      <td>192.168.0.20</td>\n",
       "      <td>192.168.0.50</td>\n",
       "      <td>00:90:e8:5e:d1:66</td>\n",
       "      <td>40:f2:e9:9d:44:6b</td>\n",
       "      <td>TCP</td>\n",
       "      <td>A</td>\n",
       "      <td>502</td>\n",
       "      <td>60394</td>\n",
       "      <td>40</td>\n",
       "      <td>1</td>\n",
       "    </tr>\n",
       "    <tr>\n",
       "      <th>2</th>\n",
       "      <td>27-02-2020 11:34</td>\n",
       "      <td>192.168.0.50</td>\n",
       "      <td>192.168.0.20</td>\n",
       "      <td>40:f2:e9:9d:44:6b</td>\n",
       "      <td>00:90:e8:5e:d1:66</td>\n",
       "      <td>TCP</td>\n",
       "      <td>AP</td>\n",
       "      <td>60394</td>\n",
       "      <td>502</td>\n",
       "      <td>52</td>\n",
       "      <td>1</td>\n",
       "    </tr>\n",
       "    <tr>\n",
       "      <th>3</th>\n",
       "      <td>27-02-2020 11:34</td>\n",
       "      <td>192.168.0.21</td>\n",
       "      <td>192.168.0.5</td>\n",
       "      <td>20:47:47:87:d4:96</td>\n",
       "      <td>00:1d:9c:a1:89:a4</td>\n",
       "      <td>TCP</td>\n",
       "      <td>S</td>\n",
       "      <td>59170</td>\n",
       "      <td>20000</td>\n",
       "      <td>48</td>\n",
       "      <td>1</td>\n",
       "    </tr>\n",
       "    <tr>\n",
       "      <th>4</th>\n",
       "      <td>27-02-2020 11:34</td>\n",
       "      <td>192.168.0.21</td>\n",
       "      <td>192.168.0.5</td>\n",
       "      <td>20:47:47:87:d4:96</td>\n",
       "      <td>00:1d:9c:a1:89:a4</td>\n",
       "      <td>TCP</td>\n",
       "      <td>A</td>\n",
       "      <td>59170</td>\n",
       "      <td>20000</td>\n",
       "      <td>40</td>\n",
       "      <td>1</td>\n",
       "    </tr>\n",
       "  </tbody>\n",
       "</table>\n",
       "</div>"
      ],
      "text/plain": [
       "        Date & Time     Source IP Destination IP         Source MAC  \\\n",
       "0  27-02-2020 11:34  192.168.0.50   192.168.0.20  40:f2:e9:9d:44:6b   \n",
       "1  27-02-2020 11:34  192.168.0.20   192.168.0.50  00:90:e8:5e:d1:66   \n",
       "2  27-02-2020 11:34  192.168.0.50   192.168.0.20  40:f2:e9:9d:44:6b   \n",
       "3  27-02-2020 11:34  192.168.0.21    192.168.0.5  20:47:47:87:d4:96   \n",
       "4  27-02-2020 11:34  192.168.0.21    192.168.0.5  20:47:47:87:d4:96   \n",
       "\n",
       "     Destination MAC Protocol Flags  Src Port  Dst Port  Length  Packet  \n",
       "0  00:90:e8:5e:d1:66      TCP    AP     60394       502      64       1  \n",
       "1  40:f2:e9:9d:44:6b      TCP     A       502     60394      40       1  \n",
       "2  00:90:e8:5e:d1:66      TCP    AP     60394       502      52       1  \n",
       "3  00:1d:9c:a1:89:a4      TCP     S     59170     20000      48       1  \n",
       "4  00:1d:9c:a1:89:a4      TCP     A     59170     20000      40       1  "
      ]
     },
     "execution_count": 3,
     "metadata": {},
     "output_type": "execute_result"
    }
   ],
   "source": [
    "df = \"E:\\FYP\\Algo_Application\\ips_dataset.csv\"\n",
    "df = pd.read_csv(df,index_col = False)\n",
    "df.head()"
   ]
  },
  {
   "cell_type": "code",
   "execution_count": 4,
   "metadata": {},
   "outputs": [
    {
     "name": "stdout",
     "output_type": "stream",
     "text": [
      "<class 'pandas.core.frame.DataFrame'>\n",
      "RangeIndex: 105150 entries, 0 to 105149\n",
      "Data columns (total 11 columns):\n",
      " #   Column           Non-Null Count   Dtype \n",
      "---  ------           --------------   ----- \n",
      " 0   Date & Time      105150 non-null  object\n",
      " 1   Source IP        105150 non-null  object\n",
      " 2   Destination IP   105150 non-null  object\n",
      " 3   Source MAC       105150 non-null  object\n",
      " 4   Destination MAC  105150 non-null  object\n",
      " 5   Protocol         105150 non-null  object\n",
      " 6   Flags            105150 non-null  object\n",
      " 7   Src Port         105150 non-null  int64 \n",
      " 8   Dst Port         105150 non-null  int64 \n",
      " 9   Length           105150 non-null  int64 \n",
      " 10  Packet           105150 non-null  int64 \n",
      "dtypes: int64(4), object(7)\n",
      "memory usage: 8.8+ MB\n"
     ]
    }
   ],
   "source": [
    "df.info()"
   ]
  },
  {
   "cell_type": "code",
   "execution_count": 5,
   "metadata": {},
   "outputs": [
    {
     "data": {
      "text/plain": [
       "Date & Time        0\n",
       "Source IP          0\n",
       "Destination IP     0\n",
       "Source MAC         0\n",
       "Destination MAC    0\n",
       "Protocol           0\n",
       "Flags              0\n",
       "Src Port           0\n",
       "Dst Port           0\n",
       "Length             0\n",
       "Packet             0\n",
       "dtype: int64"
      ]
     },
     "execution_count": 5,
     "metadata": {},
     "output_type": "execute_result"
    }
   ],
   "source": [
    "df.isnull().sum()"
   ]
  },
  {
   "cell_type": "code",
   "execution_count": 6,
   "metadata": {},
   "outputs": [
    {
     "data": {
      "text/plain": [
       "array(['192.168.0.50', '192.168.0.20', '192.168.0.21', '192.168.0.5',\n",
       "       '192.168.0.2', '192.168.0.122', '192.168.0.22', '192.168.0.204',\n",
       "       '192.168.0.31', '192.168.0.35', '192.168.0.200', '192.168.0.175',\n",
       "       '192.168.0.45'], dtype=object)"
      ]
     },
     "execution_count": 6,
     "metadata": {},
     "output_type": "execute_result"
    }
   ],
   "source": [
    "df[\"Source IP\"].unique()"
   ]
  },
  {
   "cell_type": "code",
   "execution_count": 7,
   "metadata": {},
   "outputs": [
    {
     "data": {
      "text/plain": [
       "array(['TCP', 'Modbus', 'DNP3', 'ICMP', 'UDP'], dtype=object)"
      ]
     },
     "execution_count": 7,
     "metadata": {},
     "output_type": "execute_result"
    }
   ],
   "source": [
    "df[\"Protocol\"].unique()"
   ]
  },
  {
   "cell_type": "code",
   "execution_count": 8,
   "metadata": {},
   "outputs": [
    {
     "data": {
      "text/plain": [
       "array(['AP', 'A', 'S', '0', 'AR', 'AS', 'ASF', 'SEC', 'AF', 'R', 'APF',\n",
       "       'UPSF', 'UPF'], dtype=object)"
      ]
     },
     "execution_count": 8,
     "metadata": {},
     "output_type": "execute_result"
    }
   ],
   "source": [
    "df[\"Flags\"].unique()"
   ]
  },
  {
   "cell_type": "code",
   "execution_count": 9,
   "metadata": {},
   "outputs": [
    {
     "data": {
      "text/html": [
       "<div>\n",
       "<style scoped>\n",
       "    .dataframe tbody tr th:only-of-type {\n",
       "        vertical-align: middle;\n",
       "    }\n",
       "\n",
       "    .dataframe tbody tr th {\n",
       "        vertical-align: top;\n",
       "    }\n",
       "\n",
       "    .dataframe thead th {\n",
       "        text-align: right;\n",
       "    }\n",
       "</style>\n",
       "<table border=\"1\" class=\"dataframe\">\n",
       "  <thead>\n",
       "    <tr style=\"text-align: right;\">\n",
       "      <th></th>\n",
       "      <th>Date &amp; Time</th>\n",
       "      <th>Source IP</th>\n",
       "      <th>Destination IP</th>\n",
       "      <th>Source MAC</th>\n",
       "      <th>Destination MAC</th>\n",
       "      <th>Protocol</th>\n",
       "      <th>Flags</th>\n",
       "      <th>Src Port</th>\n",
       "      <th>Dst Port</th>\n",
       "      <th>Length</th>\n",
       "      <th>Packet</th>\n",
       "    </tr>\n",
       "  </thead>\n",
       "  <tbody>\n",
       "    <tr>\n",
       "      <th>0</th>\n",
       "      <td>27-02-2020 18:40</td>\n",
       "      <td>192.168.0.21</td>\n",
       "      <td>192.168.0.20</td>\n",
       "      <td>20:47:47:87:d4:96</td>\n",
       "      <td>00:90:e8:5e:d1:66</td>\n",
       "      <td>ICMP</td>\n",
       "      <td>0</td>\n",
       "      <td>60550</td>\n",
       "      <td>0</td>\n",
       "      <td>60</td>\n",
       "      <td>1</td>\n",
       "    </tr>\n",
       "    <tr>\n",
       "      <th>1</th>\n",
       "      <td>27-02-2020 12:06</td>\n",
       "      <td>192.168.0.5</td>\n",
       "      <td>192.168.0.22</td>\n",
       "      <td>00:1d:9c:a1:89:a4</td>\n",
       "      <td>08:00:27:e6:e5:59</td>\n",
       "      <td>Modbus</td>\n",
       "      <td>AP</td>\n",
       "      <td>44818</td>\n",
       "      <td>57545</td>\n",
       "      <td>110</td>\n",
       "      <td>1</td>\n",
       "    </tr>\n",
       "    <tr>\n",
       "      <th>2</th>\n",
       "      <td>10-04-2020 16:16</td>\n",
       "      <td>192.168.0.35</td>\n",
       "      <td>192.168.0.20</td>\n",
       "      <td>b8:ae:ed:b0:c1:cb</td>\n",
       "      <td>00:90:e8:5e:d1:93</td>\n",
       "      <td>UDP</td>\n",
       "      <td>0</td>\n",
       "      <td>46853</td>\n",
       "      <td>502</td>\n",
       "      <td>1500</td>\n",
       "      <td>0</td>\n",
       "    </tr>\n",
       "    <tr>\n",
       "      <th>3</th>\n",
       "      <td>16-03-2020 13:39</td>\n",
       "      <td>192.168.0.175</td>\n",
       "      <td>192.168.0.20</td>\n",
       "      <td>00:11:22:33:44:55</td>\n",
       "      <td>00:90:e8:5e:d1:66</td>\n",
       "      <td>Modbus</td>\n",
       "      <td>AP</td>\n",
       "      <td>63802</td>\n",
       "      <td>502</td>\n",
       "      <td>52</td>\n",
       "      <td>0</td>\n",
       "    </tr>\n",
       "    <tr>\n",
       "      <th>4</th>\n",
       "      <td>17-03-2020 13:53</td>\n",
       "      <td>192.168.0.20</td>\n",
       "      <td>192.168.0.35</td>\n",
       "      <td>00:90:e8:5e:d1:66</td>\n",
       "      <td>b8:ae:ed:b0:c1:cb</td>\n",
       "      <td>TCP</td>\n",
       "      <td>AS</td>\n",
       "      <td>502</td>\n",
       "      <td>63802</td>\n",
       "      <td>44</td>\n",
       "      <td>0</td>\n",
       "    </tr>\n",
       "  </tbody>\n",
       "</table>\n",
       "</div>"
      ],
      "text/plain": [
       "        Date & Time      Source IP Destination IP         Source MAC  \\\n",
       "0  27-02-2020 18:40   192.168.0.21   192.168.0.20  20:47:47:87:d4:96   \n",
       "1  27-02-2020 12:06    192.168.0.5   192.168.0.22  00:1d:9c:a1:89:a4   \n",
       "2  10-04-2020 16:16   192.168.0.35   192.168.0.20  b8:ae:ed:b0:c1:cb   \n",
       "3  16-03-2020 13:39  192.168.0.175   192.168.0.20  00:11:22:33:44:55   \n",
       "4  17-03-2020 13:53   192.168.0.20   192.168.0.35  00:90:e8:5e:d1:66   \n",
       "\n",
       "     Destination MAC Protocol Flags  Src Port  Dst Port  Length  Packet  \n",
       "0  00:90:e8:5e:d1:66     ICMP     0     60550         0      60       1  \n",
       "1  08:00:27:e6:e5:59   Modbus    AP     44818     57545     110       1  \n",
       "2  00:90:e8:5e:d1:93      UDP     0     46853       502    1500       0  \n",
       "3  00:90:e8:5e:d1:66   Modbus    AP     63802       502      52       0  \n",
       "4  b8:ae:ed:b0:c1:cb      TCP    AS       502     63802      44       0  "
      ]
     },
     "execution_count": 9,
     "metadata": {},
     "output_type": "execute_result"
    }
   ],
   "source": [
    "df = df.sample(frac = 1).reset_index(drop=True)\n",
    "df.head()"
   ]
  },
  {
   "cell_type": "code",
   "execution_count": 10,
   "metadata": {},
   "outputs": [
    {
     "data": {
      "text/plain": [
       "Index(['Date & Time', 'Source IP', 'Destination IP', 'Source MAC',\n",
       "       'Destination MAC', 'Protocol', 'Flags', 'Src Port', 'Dst Port',\n",
       "       'Length', 'Packet'],\n",
       "      dtype='object')"
      ]
     },
     "execution_count": 10,
     "metadata": {},
     "output_type": "execute_result"
    }
   ],
   "source": [
    "df.columns"
   ]
  },
  {
   "cell_type": "code",
   "execution_count": 11,
   "metadata": {},
   "outputs": [
    {
     "data": {
      "text/plain": [
       "array([['192.168.0.21', '192.168.0.20', '20:47:47:87:d4:96', ..., 60550,\n",
       "        0, 60],\n",
       "       ['192.168.0.5', '192.168.0.22', '00:1d:9c:a1:89:a4', ..., 44818,\n",
       "        57545, 110],\n",
       "       ['192.168.0.35', '192.168.0.20', 'b8:ae:ed:b0:c1:cb', ..., 46853,\n",
       "        502, 1500],\n",
       "       ...,\n",
       "       ['192.168.0.175', '192.168.0.5', '00:11:22:33:44:55', ..., 46853,\n",
       "        477, 44],\n",
       "       ['192.168.0.21', '192.168.0.122', '20:47:47:87:d4:96', ..., 52428,\n",
       "        502, 52],\n",
       "       ['192.168.0.204', '192.168.0.5', 'b8:ae:ed:b0:c1:a5', ..., 63802,\n",
       "        80, 54]], dtype=object)"
      ]
     },
     "execution_count": 11,
     "metadata": {},
     "output_type": "execute_result"
    }
   ],
   "source": [
    "X = df[['Source IP', 'Destination IP', 'Source MAC', 'Destination MAC', 'Protocol', 'Flags', 'Src Port', 'Dst Port',\n",
    "       'Length']].values\n",
    "X"
   ]
  },
  {
   "cell_type": "code",
   "execution_count": 12,
   "metadata": {},
   "outputs": [
    {
     "data": {
      "text/plain": [
       "array([1, 1, 0, ..., 0, 1, 0], dtype=int64)"
      ]
     },
     "execution_count": 12,
     "metadata": {},
     "output_type": "execute_result"
    }
   ],
   "source": [
    "y = df[\"Packet\"].values\n",
    "y"
   ]
  },
  {
   "cell_type": "code",
   "execution_count": 13,
   "metadata": {},
   "outputs": [
    {
     "name": "stderr",
     "output_type": "stream",
     "text": [
      "c:\\users\\admin\\appdata\\local\\programs\\python\\python38\\lib\\site-packages\\category_encoders\\utils.py:21: FutureWarning: is_categorical is deprecated and will be removed in a future version.  Use is_categorical_dtype instead\n",
      "  elif pd.api.types.is_categorical(cols):\n"
     ]
    }
   ],
   "source": [
    "ce_bin = ce.BinaryEncoder(return_df=False)\n",
    "enc_bin = ce_bin.fit(X)"
   ]
  },
  {
   "cell_type": "code",
   "execution_count": 14,
   "metadata": {},
   "outputs": [
    {
     "data": {
      "text/plain": [
       "array([[    0,     0,     0, ..., 60550,     0,    60],\n",
       "       [    0,     0,     0, ..., 44818, 57545,   110],\n",
       "       [    0,     0,     0, ..., 46853,   502,  1500],\n",
       "       ...,\n",
       "       [    0,     0,     1, ..., 46853,   477,    44],\n",
       "       [    0,     0,     0, ..., 52428,   502,    52],\n",
       "       [    0,     1,     0, ..., 63802,    80,    54]], dtype=int64)"
      ]
     },
     "execution_count": 14,
     "metadata": {},
     "output_type": "execute_result"
    }
   ],
   "source": [
    "X = enc_bin.transform(X)\n",
    "X"
   ]
  },
  {
   "cell_type": "code",
   "execution_count": 15,
   "metadata": {},
   "outputs": [
    {
     "data": {
      "text/plain": [
       "(105150, 39)"
      ]
     },
     "execution_count": 15,
     "metadata": {},
     "output_type": "execute_result"
    }
   ],
   "source": [
    "X.shape"
   ]
  },
  {
   "cell_type": "code",
   "execution_count": 16,
   "metadata": {},
   "outputs": [
    {
     "data": {
      "text/plain": [
       "array([    0,     0,     0,     0,     1,     0,     0,     0,     0,\n",
       "           1,     0,     0,     0,     0,     0,     0,     0,     1,\n",
       "           0,     0,     0,     0,     0,     0,     0,     0,     1,\n",
       "           0,     0,     0,     1,     0,     0,     0,     0,     1,\n",
       "       60550,     0,    60], dtype=int64)"
      ]
     },
     "execution_count": 16,
     "metadata": {},
     "output_type": "execute_result"
    }
   ],
   "source": [
    "X[0]"
   ]
  },
  {
   "cell_type": "code",
   "execution_count": null,
   "metadata": {},
   "outputs": [],
   "source": []
  }
 ],
 "metadata": {
  "kernelspec": {
   "display_name": "Python 3",
   "language": "python",
   "name": "python3"
  },
  "language_info": {
   "codemirror_mode": {
    "name": "ipython",
    "version": 3
   },
   "file_extension": ".py",
   "mimetype": "text/x-python",
   "name": "python",
   "nbconvert_exporter": "python",
   "pygments_lexer": "ipython3",
   "version": "3.8.6rc1"
  }
 },
 "nbformat": 4,
 "nbformat_minor": 4
}
